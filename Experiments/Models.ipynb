{
  "nbformat": 4,
  "nbformat_minor": 0,
  "metadata": {
    "colab": {
      "name": "Models.ipynb",
      "provenance": [],
      "collapsed_sections": [],
      "toc_visible": true
    },
    "kernelspec": {
      "name": "python3",
      "display_name": "Python 3"
    },
    "accelerator": "GPU"
  },
  "cells": [
    {
      "cell_type": "markdown",
      "metadata": {
        "id": "I1IO4JByFg67"
      },
      "source": [
        "# Imports"
      ]
    },
    {
      "cell_type": "code",
      "metadata": {
        "id": "KY4h7bNb1fI-"
      },
      "source": [
        "from sklearn.ensemble import RandomForestClassifier\n",
        "from sklearn.naive_bayes import GaussianNB\n",
        "from sklearn.linear_model import LogisticRegression\n",
        "from sklearn.neural_network import MLPClassifier\n",
        "\n",
        "from sklearn.model_selection import StratifiedKFold\n",
        "from sklearn.preprocessing import *\n",
        "from sklearn.model_selection import train_test_split\n",
        "from sklearn.metrics import *\n",
        "from sklearn import svm\n",
        "from scipy import stats\n",
        "\n",
        "import matplotlib.pyplot as plt\n",
        "import pandas as pd\n",
        "import numpy as np\n",
        "import joblib"
      ],
      "execution_count": null,
      "outputs": []
    },
    {
      "cell_type": "markdown",
      "metadata": {
        "id": "Jffs9V5FFjJg"
      },
      "source": [
        "# Load Data"
      ]
    },
    {
      "cell_type": "code",
      "metadata": {
        "id": "gUXhjhou1mj2",
        "colab": {
          "base_uri": "https://localhost:8080/"
        },
        "outputId": "7dc7e513-85c6-4be0-eab2-b1bf1e68c942"
      },
      "source": [
        "%cd '/content/drive/My Drive/IIITD/SEM-7/ML/ML Project/Code/Dataset'"
      ],
      "execution_count": null,
      "outputs": [
        {
          "output_type": "stream",
          "text": [
            "/content/drive/My Drive/IIITD/SEM-7/ML/ML Project/Code/Dataset\n"
          ],
          "name": "stdout"
        }
      ]
    },
    {
      "cell_type": "code",
      "metadata": {
        "id": "7dAH8pEm1tDm"
      },
      "source": [
        "train_data = pd.read_csv('subtask_A_preprocessed.csv',index_col='id')\n",
        "X_test = pd.read_csv('subtask_A_preprocessed_test.csv',index_col='id')\n",
        "y_test = pd.read_csv('labels-levela.csv',index_col=0,header=None)"
      ],
      "execution_count": null,
      "outputs": []
    },
    {
      "cell_type": "code",
      "metadata": {
        "id": "NXs_a8LU3LgV"
      },
      "source": [
        "X_train = train_data.drop(columns=['subtask_a'])\n",
        "y_train = train_data['subtask_a']"
      ],
      "execution_count": null,
      "outputs": []
    },
    {
      "cell_type": "markdown",
      "metadata": {
        "id": "_fMJ8OgNZuPB"
      },
      "source": [
        "## Standardize"
      ]
    },
    {
      "cell_type": "code",
      "metadata": {
        "id": "70ecBK_3NflI"
      },
      "source": [
        "scaler = StandardScaler()\n",
        "\n",
        "X_train = scaler.fit_transform(X_train)\n",
        "X_test = scaler.fit_transform(X_test)"
      ],
      "execution_count": null,
      "outputs": []
    },
    {
      "cell_type": "code",
      "metadata": {
        "id": "cGIpm8bUAIE5"
      },
      "source": [
        "k_fold = StratifiedKFold(n_splits=5, random_state=0, shuffle=True)"
      ],
      "execution_count": null,
      "outputs": []
    },
    {
      "cell_type": "markdown",
      "metadata": {
        "id": "U1EyT9uRXjCK"
      },
      "source": [
        "# Models"
      ]
    },
    {
      "cell_type": "markdown",
      "metadata": {
        "id": "4nGTSE7r64Qj"
      },
      "source": [
        "## Logistic Regression"
      ]
    },
    {
      "cell_type": "markdown",
      "metadata": {
        "id": "KZDBpipTCzFJ"
      },
      "source": [
        "### Cross Validation"
      ]
    },
    {
      "cell_type": "code",
      "metadata": {
        "id": "f7eyOOtK7b4M",
        "colab": {
          "base_uri": "https://localhost:8080/"
        },
        "outputId": "f2b3072c-a5d9-4233-9b79-84e8ed9fc390"
      },
      "source": [
        "fold_count = 0\n",
        "accuracy = [0 for i in range(k_fold.get_n_splits())]\n",
        "f1_scores = [0 for i in range(k_fold.get_n_splits())]\n",
        "\n",
        "for train_index, test_index in k_fold.split(X_train, y_train):\n",
        "    \n",
        "    fold_count+=1\n",
        "    print('Fold:',fold_count)\n",
        "\n",
        "    # initialization\n",
        "    X_train_temp, X_test_temp = X_train[train_index], X_train[test_index]\n",
        "    y_train_temp, y_test_temp = y_train.iloc[train_index], y_train.iloc[test_index]\n",
        "    log_classifier = LogisticRegression()\n",
        "\n",
        "    # training\n",
        "    log_classifier = log_classifier.fit(X_train_temp,y_train_temp)\n",
        "\n",
        "    # prediction\n",
        "    y_pred_temp = log_classifier.predict(X_test_temp)\n",
        "\n",
        "    # evaluation\n",
        "    accuracy[fold_count-1] = accuracy_score(y_test_temp,y_pred_temp)\n",
        "    f1_scores[fold_count-1] = f1_score(y_test_temp, y_pred_temp, average='macro')\n",
        "    \n",
        "    print('accuracy:',accuracy[fold_count-1])\n",
        "    print('f1 score:',f1_scores[fold_count-1])\n",
        "    print()\n",
        "\n",
        "\n",
        "print('Overall')\n",
        "print('accuracy:',np.mean(accuracy))\n",
        "print('f1 score:',np.mean(f1_scores))"
      ],
      "execution_count": null,
      "outputs": [
        {
          "output_type": "stream",
          "text": [
            "Fold: 1\n",
            "accuracy: 0.7477341389728097\n",
            "f1 score: 0.7051828473559751\n",
            "\n",
            "Fold: 2\n",
            "accuracy: 0.7356495468277946\n",
            "f1 score: 0.6887384301239942\n",
            "\n",
            "Fold: 3\n",
            "accuracy: 0.7371601208459214\n",
            "f1 score: 0.6926188824251481\n",
            "\n",
            "Fold: 4\n",
            "accuracy: 0.7462235649546828\n",
            "f1 score: 0.7007748600947051\n",
            "\n",
            "Fold: 5\n",
            "accuracy: 0.7428247734138973\n",
            "f1 score: 0.6964508602467832\n",
            "\n",
            "Overall\n",
            "accuracy: 0.7419184290030211\n",
            "f1 score: 0.6967531760493212\n"
          ],
          "name": "stdout"
        }
      ]
    },
    {
      "cell_type": "markdown",
      "metadata": {
        "id": "61nc1Zb-7VwA"
      },
      "source": [
        "### Training"
      ]
    },
    {
      "cell_type": "code",
      "metadata": {
        "id": "ZH54e6XzC276"
      },
      "source": [
        "# log_classifier = LogisticRegression()"
      ],
      "execution_count": null,
      "outputs": []
    },
    {
      "cell_type": "code",
      "metadata": {
        "id": "AuEmLdaCC-qo"
      },
      "source": [
        "# log_classifier = log_classifier.fit(X_train,y_train)"
      ],
      "execution_count": null,
      "outputs": []
    },
    {
      "cell_type": "code",
      "metadata": {
        "id": "9_HcwGtq7lY8",
        "colab": {
          "base_uri": "https://localhost:8080/"
        },
        "outputId": "c64a4860-f1cb-48b8-cbf2-9c1cec6d6909"
      },
      "source": [
        "# joblib.dump(log_classifier,'logregression.model')"
      ],
      "execution_count": null,
      "outputs": [
        {
          "output_type": "execute_result",
          "data": {
            "text/plain": [
              "['logregression.model']"
            ]
          },
          "metadata": {
            "tags": []
          },
          "execution_count": 17
        }
      ]
    },
    {
      "cell_type": "code",
      "metadata": {
        "id": "eZiVfiFU7t3V"
      },
      "source": [
        "log_classifier = joblib.load('logregression.model')"
      ],
      "execution_count": null,
      "outputs": []
    },
    {
      "cell_type": "markdown",
      "metadata": {
        "id": "FKhEfIF58V9w"
      },
      "source": [
        "### Prediction"
      ]
    },
    {
      "cell_type": "code",
      "metadata": {
        "id": "1mppXX7W7zAt"
      },
      "source": [
        "y_pred_logistic = log_classifier.predict(X_test)"
      ],
      "execution_count": null,
      "outputs": []
    },
    {
      "cell_type": "code",
      "metadata": {
        "id": "kGL8JgCV79AW",
        "colab": {
          "base_uri": "https://localhost:8080/"
        },
        "outputId": "03619bef-9919-49b3-f2a1-895a5f1c8527"
      },
      "source": [
        "print(classification_report(y_test,y_pred_logistic))"
      ],
      "execution_count": null,
      "outputs": [
        {
          "output_type": "stream",
          "text": [
            "              precision    recall  f1-score   support\n",
            "\n",
            "         NOT       0.84      0.88      0.86       620\n",
            "         OFF       0.64      0.57      0.60       240\n",
            "\n",
            "    accuracy                           0.79       860\n",
            "   macro avg       0.74      0.72      0.73       860\n",
            "weighted avg       0.78      0.79      0.79       860\n",
            "\n"
          ],
          "name": "stdout"
        }
      ]
    },
    {
      "cell_type": "code",
      "metadata": {
        "id": "Zaje-uLs7_Du",
        "colab": {
          "base_uri": "https://localhost:8080/",
          "height": 295
        },
        "outputId": "73249ea6-0b2f-42dc-d756-87868e107441"
      },
      "source": [
        "plot = plot_confusion_matrix(log_classifier,X_test,y_test)\n",
        "plot.ax_.set_title(\"Confusion Matrix (Logistic Regression)\")\n",
        "plt.show()"
      ],
      "execution_count": null,
      "outputs": [
        {
          "output_type": "display_data",
          "data": {
            "image/png": "[encoded data removed]",
            "text/plain": [
              "<Figure size 432x288 with 2 Axes>"
            ]
          },
          "metadata": {
            "tags": [],
            "needs_background": "light"
          }
        }
      ]
    },
    {
      "cell_type": "markdown",
      "metadata": {
        "id": "GQBaeqzeXeBg"
      },
      "source": [
        "## Naive Bayes Classifier"
      ]
    },
    {
      "cell_type": "markdown",
      "metadata": {
        "id": "-yBkH4PzDUm7"
      },
      "source": [
        "### Cross Validation\n"
      ]
    },
    {
      "cell_type": "code",
      "metadata": {
        "id": "wzCIRTI7DWcA",
        "colab": {
          "base_uri": "https://localhost:8080/"
        },
        "outputId": "ebaffc5a-dea8-44c1-e02d-5479d21a3bc6"
      },
      "source": [
        "fold_count = 0\n",
        "accuracy = [0 for i in range(k_fold.get_n_splits())]\n",
        "f1_scores = [0 for i in range(k_fold.get_n_splits())]\n",
        "\n",
        "for train_index, test_index in k_fold.split(X_train, y_train):\n",
        "    \n",
        "    fold_count+=1\n",
        "    print('Fold:',fold_count)\n",
        "\n",
        "    # initialization\n",
        "    X_train_temp, X_test_temp = X_train[train_index], X_train[test_index]\n",
        "    y_train_temp, y_test_temp = y_train.iloc[train_index], y_train.iloc[test_index]\n",
        "    nb_classifier = GaussianNB()\n",
        "\n",
        "    # training\n",
        "    nb_classifier = nb_classifier.fit(X_train_temp,y_train_temp)\n",
        "\n",
        "    # prediction\n",
        "    y_pred_temp = nb_classifier.predict(X_test_temp)\n",
        "\n",
        "    # evaluation\n",
        "    accuracy[fold_count-1] = accuracy_score(y_test_temp,y_pred_temp)\n",
        "    f1_scores[fold_count-1] = f1_score(y_test_temp, y_pred_temp, average='macro')\n",
        "    \n",
        "    print('accuracy:',accuracy[fold_count-1])\n",
        "    print('f1 score:',f1_scores[fold_count-1])\n",
        "    print()\n",
        "\n",
        "\n",
        "print('Overall')\n",
        "print('accuracy:',np.mean(accuracy))\n",
        "print('f1 score:',np.mean(f1_scores))"
      ],
      "execution_count": null,
      "outputs": [
        {
          "output_type": "stream",
          "text": [
            "Fold: 1\n",
            "accuracy: 0.6125377643504532\n",
            "f1 score: 0.6018423260157326\n",
            "\n",
            "Fold: 2\n",
            "accuracy: 0.6068731117824774\n",
            "f1 score: 0.596578649856029\n",
            "\n",
            "Fold: 3\n",
            "accuracy: 0.6185800604229608\n",
            "f1 score: 0.605732801448237\n",
            "\n",
            "Fold: 4\n",
            "accuracy: 0.5834592145015106\n",
            "f1 score: 0.5774028907249819\n",
            "\n",
            "Fold: 5\n",
            "accuracy: 0.599320241691843\n",
            "f1 score: 0.5905752364242325\n",
            "\n",
            "Overall\n",
            "accuracy: 0.6041540785498489\n",
            "f1 score: 0.5944263808938426\n"
          ],
          "name": "stdout"
        }
      ]
    },
    {
      "cell_type": "markdown",
      "metadata": {
        "id": "lcDkaauWY116"
      },
      "source": [
        "### Training"
      ]
    },
    {
      "cell_type": "code",
      "metadata": {
        "id": "WV4yx4P-Xhao"
      },
      "source": [
        "# nb_classifier = GaussianNB()"
      ],
      "execution_count": null,
      "outputs": []
    },
    {
      "cell_type": "code",
      "metadata": {
        "id": "JZV8Vs3rYSPp"
      },
      "source": [
        "# nb_classifier = nb_classifier.fit(X_train,y_train)"
      ],
      "execution_count": null,
      "outputs": []
    },
    {
      "cell_type": "code",
      "metadata": {
        "id": "UJLJnnALYYQi",
        "colab": {
          "base_uri": "https://localhost:8080/"
        },
        "outputId": "e3d7e7cc-91a2-4fd7-c86e-e29d1e536cd4"
      },
      "source": [
        "# joblib.dump(nb_classifier,'naivebayes.model')"
      ],
      "execution_count": null,
      "outputs": [
        {
          "output_type": "execute_result",
          "data": {
            "text/plain": [
              "['naivebayes.model']"
            ]
          },
          "metadata": {
            "tags": []
          },
          "execution_count": 25
        }
      ]
    },
    {
      "cell_type": "code",
      "metadata": {
        "id": "waiJ_z86YiGq"
      },
      "source": [
        "nb_classifier = joblib.load('naivebayes.model')"
      ],
      "execution_count": null,
      "outputs": []
    },
    {
      "cell_type": "markdown",
      "metadata": {
        "id": "j90NFjLCY5dp"
      },
      "source": [
        "### Prediction"
      ]
    },
    {
      "cell_type": "code",
      "metadata": {
        "id": "i75LdY8XYlhJ"
      },
      "source": [
        "y_pred_nb = nb_classifier.predict(X_test)"
      ],
      "execution_count": null,
      "outputs": []
    },
    {
      "cell_type": "code",
      "metadata": {
        "id": "JmBKgeh0YrXx",
        "colab": {
          "base_uri": "https://localhost:8080/"
        },
        "outputId": "077a1804-4915-42ec-917b-8a555a9b9b77"
      },
      "source": [
        "print(classification_report(y_test,y_pred_nb))"
      ],
      "execution_count": null,
      "outputs": [
        {
          "output_type": "stream",
          "text": [
            "              precision    recall  f1-score   support\n",
            "\n",
            "         NOT       0.85      0.67      0.75       620\n",
            "         OFF       0.46      0.70      0.55       240\n",
            "\n",
            "    accuracy                           0.68       860\n",
            "   macro avg       0.66      0.69      0.65       860\n",
            "weighted avg       0.74      0.68      0.70       860\n",
            "\n"
          ],
          "name": "stdout"
        }
      ]
    },
    {
      "cell_type": "code",
      "metadata": {
        "id": "Ld-Li1XWYtvJ",
        "colab": {
          "base_uri": "https://localhost:8080/",
          "height": 295
        },
        "outputId": "f608b5db-f67a-4f1f-8438-dbf01ef8f9c4"
      },
      "source": [
        "plot = plot_confusion_matrix(nb_classifier,X_test,y_test)\n",
        "plot.ax_.set_title(\"Confusion Matrix (Naive Bayes)\")\n",
        "plt.show()"
      ],
      "execution_count": null,
      "outputs": [
        {
          "output_type": "display_data",
          "data": {
            "image/png": "[encoded data removed]",
            "text/plain": [
              "<Figure size 432x288 with 2 Axes>"
            ]
          },
          "metadata": {
            "tags": [],
            "needs_background": "light"
          }
        }
      ]
    },
    {
      "cell_type": "markdown",
      "metadata": {
        "id": "L4_RFVKLKzCO"
      },
      "source": [
        "## Random Forest Classifier"
      ]
    },
    {
      "cell_type": "markdown",
      "metadata": {
        "id": "_AhE6D5BFYzK"
      },
      "source": [
        "### Cross Validation\n"
      ]
    },
    {
      "cell_type": "code",
      "metadata": {
        "id": "lYLcL4AwFaXY",
        "colab": {
          "base_uri": "https://localhost:8080/"
        },
        "outputId": "611e05dd-7f48-44eb-bbd6-0084bdfa0a56"
      },
      "source": [
        "fold_count = 0\n",
        "accuracy = [0 for i in range(k_fold.get_n_splits())]\n",
        "f1_scores = [0 for i in range(k_fold.get_n_splits())]\n",
        "\n",
        "for train_index, test_index in k_fold.split(X_train, y_train):\n",
        "    \n",
        "    fold_count+=1\n",
        "    print('Fold:',fold_count)\n",
        "\n",
        "    # initialization\n",
        "    X_train_temp, X_test_temp = X_train[train_index], X_train[test_index]\n",
        "    y_train_temp, y_test_temp = y_train.iloc[train_index], y_train.iloc[test_index]\n",
        "    rf_classifier = RandomForestClassifier()\n",
        "\n",
        "    # training\n",
        "    rf_classifier = rf_classifier.fit(X_train_temp,y_train_temp)\n",
        "\n",
        "    # prediction\n",
        "    y_pred_temp = rf_classifier.predict(X_test_temp)\n",
        "\n",
        "    # evaluation\n",
        "    accuracy[fold_count-1] = accuracy_score(y_test_temp,y_pred_temp)\n",
        "    f1_scores[fold_count-1] = f1_score(y_test_temp, y_pred_temp, average='macro')\n",
        "    \n",
        "    print('accuracy:',accuracy[fold_count-1])\n",
        "    print('f1 score:',f1_scores[fold_count-1])\n",
        "    print()\n",
        "\n",
        "\n",
        "print('Overall')\n",
        "print('accuracy:',np.mean(accuracy))\n",
        "print('f1 score:',np.mean(f1_scores))"
      ],
      "execution_count": null,
      "outputs": [
        {
          "output_type": "stream",
          "text": [
            "Fold: 1\n",
            "accuracy: 0.7654833836858006\n",
            "f1 score: 0.7070052731310853\n",
            "\n",
            "Fold: 2\n",
            "accuracy: 0.7707703927492447\n",
            "f1 score: 0.706783345054075\n",
            "\n",
            "Fold: 3\n",
            "accuracy: 0.7590634441087614\n",
            "f1 score: 0.6911100790954667\n",
            "\n",
            "Fold: 4\n",
            "accuracy: 0.7707703927492447\n",
            "f1 score: 0.7078348068504686\n",
            "\n",
            "Fold: 5\n",
            "accuracy: 0.7598187311178247\n",
            "f1 score: 0.6948280548397969\n",
            "\n",
            "Overall\n",
            "accuracy: 0.7651812688821753\n",
            "f1 score: 0.7015123117941785\n"
          ],
          "name": "stdout"
        }
      ]
    },
    {
      "cell_type": "markdown",
      "metadata": {
        "id": "s7bGk9TmZdvM"
      },
      "source": [
        "### Training"
      ]
    },
    {
      "cell_type": "code",
      "metadata": {
        "id": "Ysyc_hOL3WHz"
      },
      "source": [
        "# rf_classifier = RandomForestClassifier()"
      ],
      "execution_count": null,
      "outputs": []
    },
    {
      "cell_type": "code",
      "metadata": {
        "id": "Gac0u1tu3UOW"
      },
      "source": [
        "# rf_classifier = rf_classifier.fit(X_train,y_train)"
      ],
      "execution_count": null,
      "outputs": []
    },
    {
      "cell_type": "code",
      "metadata": {
        "id": "FR4IKJ01Wnu5",
        "colab": {
          "base_uri": "https://localhost:8080/"
        },
        "outputId": "f0503323-1e0d-414a-9ef4-ac4d70a8bd31"
      },
      "source": [
        "# joblib.dump(rf_classifier,'randomforest.model')"
      ],
      "execution_count": null,
      "outputs": [
        {
          "output_type": "execute_result",
          "data": {
            "text/plain": [
              "['randomforest.model']"
            ]
          },
          "metadata": {
            "tags": []
          },
          "execution_count": 33
        }
      ]
    },
    {
      "cell_type": "code",
      "metadata": {
        "id": "iKRsaYUCW_Zw"
      },
      "source": [
        "rf_classifier = joblib.load('randomforest.model')"
      ],
      "execution_count": null,
      "outputs": []
    },
    {
      "cell_type": "markdown",
      "metadata": {
        "id": "ki01s6JhZfyK"
      },
      "source": [
        "### Prediction"
      ]
    },
    {
      "cell_type": "code",
      "metadata": {
        "id": "GYDh1x6WFHgA"
      },
      "source": [
        "y_pred_rf = rf_classifier.predict(X_test)"
      ],
      "execution_count": null,
      "outputs": []
    },
    {
      "cell_type": "code",
      "metadata": {
        "id": "odLVRB8LFQF0",
        "colab": {
          "base_uri": "https://localhost:8080/"
        },
        "outputId": "52a5af74-72c9-4828-e1b9-e4d7c4d58145"
      },
      "source": [
        "print(classification_report(y_test,y_pred_rf))"
      ],
      "execution_count": null,
      "outputs": [
        {
          "output_type": "stream",
          "text": [
            "              precision    recall  f1-score   support\n",
            "\n",
            "         NOT       0.83      0.95      0.89       620\n",
            "         OFF       0.80      0.50      0.62       240\n",
            "\n",
            "    accuracy                           0.83       860\n",
            "   macro avg       0.81      0.73      0.75       860\n",
            "weighted avg       0.82      0.83      0.81       860\n",
            "\n"
          ],
          "name": "stdout"
        }
      ]
    },
    {
      "cell_type": "code",
      "metadata": {
        "id": "chMDk80yQfCn",
        "colab": {
          "base_uri": "https://localhost:8080/",
          "height": 295
        },
        "outputId": "1c269200-c0d3-4071-a0d1-0547ea385494"
      },
      "source": [
        "plot = plot_confusion_matrix(rf_classifier,X_test,y_test)\n",
        "plot.ax_.set_title(\"Confusion Matrix (Random Forest)\")\n",
        "plt.show()"
      ],
      "execution_count": null,
      "outputs": [
        {
          "output_type": "display_data",
          "data": {
            "image/png": "[encoded data removed]",
            "text/plain": [
              "<Figure size 432x288 with 2 Axes>"
            ]
          },
          "metadata": {
            "tags": [],
            "needs_background": "light"
          }
        }
      ]
    },
    {
      "cell_type": "markdown",
      "metadata": {
        "id": "wpFNhAZbRbzP"
      },
      "source": [
        "## SVM"
      ]
    },
    {
      "cell_type": "markdown",
      "metadata": {
        "id": "vrh9nRhpGHWI"
      },
      "source": [
        "### Cross Validation"
      ]
    },
    {
      "cell_type": "code",
      "metadata": {
        "id": "9Y-KTYdcGJsC",
        "colab": {
          "base_uri": "https://localhost:8080/"
        },
        "outputId": "a64f4239-5de4-41b7-d85d-fe6d5a4ce8b6"
      },
      "source": [
        "fold_count = 0\n",
        "accuracy = [0 for i in range(k_fold.get_n_splits())]\n",
        "f1_scores = [0 for i in range(k_fold.get_n_splits())]\n",
        "\n",
        "for train_index, test_index in k_fold.split(X_train, y_train):\n",
        "    \n",
        "    fold_count+=1\n",
        "    print('Fold:',fold_count)\n",
        "\n",
        "    # initialization\n",
        "    X_train_temp, X_test_temp = X_train[train_index], X_train[test_index]\n",
        "    y_train_temp, y_test_temp = y_train.iloc[train_index], y_train.iloc[test_index]\n",
        "    svm_classifier = svm.SVC()\n",
        "\n",
        "    # training\n",
        "    svm_classifier = svm_classifier.fit(X_train_temp,y_train_temp)\n",
        "\n",
        "    # prediction\n",
        "    y_pred_temp = svm_classifier.predict(X_test_temp)\n",
        "\n",
        "    # evaluation\n",
        "    accuracy[fold_count-1] = accuracy_score(y_test_temp,y_pred_temp)\n",
        "    f1_scores[fold_count-1] = f1_score(y_test_temp, y_pred_temp, average='macro')\n",
        "    \n",
        "    print('accuracy:',accuracy[fold_count-1])\n",
        "    print('f1 score:',f1_scores[fold_count-1])\n",
        "    print()\n",
        "\n",
        "\n",
        "print('Overall')\n",
        "print('accuracy:',np.mean(accuracy))\n",
        "print('f1 score:',np.mean(f1_scores))"
      ],
      "execution_count": null,
      "outputs": [
        {
          "output_type": "stream",
          "text": [
            "Fold: 1\n",
            "accuracy: 0.7571752265861027\n",
            "f1 score: 0.6802210459830711\n",
            "\n",
            "Fold: 2\n",
            "accuracy: 0.754154078549849\n",
            "f1 score: 0.6733537157869904\n",
            "\n",
            "Fold: 3\n",
            "accuracy: 0.745845921450151\n",
            "f1 score: 0.6564090907075265\n",
            "\n",
            "Fold: 4\n",
            "accuracy: 0.7469788519637462\n",
            "f1 score: 0.6563239979667993\n",
            "\n",
            "Fold: 5\n",
            "accuracy: 0.752643504531722\n",
            "f1 score: 0.6690216651848935\n",
            "\n",
            "Overall\n",
            "accuracy: 0.7513595166163142\n",
            "f1 score: 0.6670659031258562\n"
          ],
          "name": "stdout"
        }
      ]
    },
    {
      "cell_type": "markdown",
      "metadata": {
        "id": "Fxz1CFeDZlb4"
      },
      "source": [
        "### Training"
      ]
    },
    {
      "cell_type": "code",
      "metadata": {
        "id": "OqEh_NVvQmJt"
      },
      "source": [
        "# svm_classifier = svm.SVC()"
      ],
      "execution_count": null,
      "outputs": []
    },
    {
      "cell_type": "code",
      "metadata": {
        "id": "nb2DiGg6THCc"
      },
      "source": [
        "# svm_classifier = svm_classifier.fit(X_train, y_train)"
      ],
      "execution_count": null,
      "outputs": []
    },
    {
      "cell_type": "code",
      "metadata": {
        "id": "otgcR2xgWE88",
        "colab": {
          "base_uri": "https://localhost:8080/"
        },
        "outputId": "5e278c95-dfb4-43ee-bce5-4c1b7b86501e"
      },
      "source": [
        "# joblib.dump(svm_classifier,'svm.model')"
      ],
      "execution_count": null,
      "outputs": [
        {
          "output_type": "execute_result",
          "data": {
            "text/plain": [
              "['svm.model']"
            ]
          },
          "metadata": {
            "tags": []
          },
          "execution_count": 42
        }
      ]
    },
    {
      "cell_type": "code",
      "metadata": {
        "id": "PaDuXoxCWVih"
      },
      "source": [
        "svm_classifier = joblib.load('svm.model')"
      ],
      "execution_count": null,
      "outputs": []
    },
    {
      "cell_type": "markdown",
      "metadata": {
        "id": "8hsMYafBZnnm"
      },
      "source": [
        "### Prediction"
      ]
    },
    {
      "cell_type": "code",
      "metadata": {
        "id": "4KeC3w2fTHfo"
      },
      "source": [
        "y_pred_svm = svm_classifier.predict(X_test)"
      ],
      "execution_count": null,
      "outputs": []
    },
    {
      "cell_type": "code",
      "metadata": {
        "id": "mgNTpzZhTLlM",
        "colab": {
          "base_uri": "https://localhost:8080/"
        },
        "outputId": "ce7c3176-5154-42ed-efe1-0cac3bc13465"
      },
      "source": [
        "print(classification_report(y_test,y_pred_svm))"
      ],
      "execution_count": null,
      "outputs": [
        {
          "output_type": "stream",
          "text": [
            "              precision    recall  f1-score   support\n",
            "\n",
            "         NOT       0.81      0.94      0.87       620\n",
            "         OFF       0.73      0.45      0.56       240\n",
            "\n",
            "    accuracy                           0.80       860\n",
            "   macro avg       0.77      0.69      0.71       860\n",
            "weighted avg       0.79      0.80      0.78       860\n",
            "\n"
          ],
          "name": "stdout"
        }
      ]
    },
    {
      "cell_type": "code",
      "metadata": {
        "id": "tOb9R2ZMTNnR",
        "colab": {
          "base_uri": "https://localhost:8080/",
          "height": 295
        },
        "outputId": "3359ddfc-7af5-47bc-d8d3-8934d7d9ff02"
      },
      "source": [
        "plot = plot_confusion_matrix(svm_classifier,X_test,y_test)\n",
        "plot.ax_.set_title(\"Confusion Matrix (SVM)\")\n",
        "plt.show()"
      ],
      "execution_count": null,
      "outputs": [
        {
          "output_type": "display_data",
          "data": {
            "image/png": "[encoded data removed]",
            "text/plain": [
              "<Figure size 432x288 with 2 Axes>"
            ]
          },
          "metadata": {
            "tags": [],
            "needs_background": "light"
          }
        }
      ]
    },
    {
      "cell_type": "markdown",
      "metadata": {
        "id": "pH5T1b-WFTRr"
      },
      "source": [
        "## Multi Layer Perceptron"
      ]
    },
    {
      "cell_type": "code",
      "metadata": {
        "id": "RzxytjFaFYrO"
      },
      "source": [
        "class NN:\n",
        "\n",
        "    def __init__(self,layers,activation,alpha):\n",
        "        \n",
        "        self.n_layers = len(layers)\n",
        "        self.layers = layers\n",
        "        self.activation = activation\n",
        "        self.alpha = alpha\n",
        "        \n",
        "        self.model = MLPClassifier(hidden_layer_sizes=self.layers,\n",
        "                                   activation=self.activation,\n",
        "                                   alpha=self.alpha,\n",
        "                                   max_iter=500)\n",
        "    \n",
        "    def fit(self,X,y):\n",
        "        self.model = self.model.fit(X,y)\n",
        "\n",
        "    def predict(self,X):\n",
        "        return self.model.predict(X)\n",
        "    \n",
        "    def loss(self):\n",
        "        return self.model.loss_"
      ],
      "execution_count": null,
      "outputs": []
    },
    {
      "cell_type": "code",
      "metadata": {
        "id": "JLwFhB-MFeoy"
      },
      "source": [
        "NN_classifier = NN(layers=[200,100,50],activation='relu',alpha=1e-4)"
      ],
      "execution_count": null,
      "outputs": []
    },
    {
      "cell_type": "code",
      "metadata": {
        "id": "4LWBQqvhFivS"
      },
      "source": [
        "NN_classifier.fit(X_train,y_train)"
      ],
      "execution_count": null,
      "outputs": []
    },
    {
      "cell_type": "code",
      "metadata": {
        "id": "f2Qy28E6FpYs"
      },
      "source": [
        "y_pred_NN = NN_classifier.predict(X_test)"
      ],
      "execution_count": null,
      "outputs": []
    },
    {
      "cell_type": "code",
      "metadata": {
        "colab": {
          "base_uri": "https://localhost:8080/"
        },
        "id": "kOVnE75BFpgG",
        "outputId": "26129c5d-1395-4e10-e37c-8c5fc292ad76"
      },
      "source": [
        "print(classification_report(y_test,y_pred_NN))"
      ],
      "execution_count": null,
      "outputs": [
        {
          "output_type": "stream",
          "text": [
            "              precision    recall  f1-score   support\n",
            "\n",
            "         NOT       0.84      0.83      0.83       620\n",
            "         OFF       0.57      0.59      0.58       240\n",
            "\n",
            "    accuracy                           0.76       860\n",
            "   macro avg       0.71      0.71      0.71       860\n",
            "weighted avg       0.76      0.76      0.76       860\n",
            "\n"
          ],
          "name": "stdout"
        }
      ]
    },
    {
      "cell_type": "code",
      "metadata": {
        "colab": {
          "base_uri": "https://localhost:8080/",
          "height": 295
        },
        "id": "RA_d-ZSYeeek",
        "outputId": "1eae4687-a1ed-4e89-bcd7-2f2f66a66e1d"
      },
      "source": [
        "plot = plot_confusion_matrix(NN_classifier.model,X_test,y_test)\n",
        "plot.ax_.set_title(\"Confusion Matrix (NN)\")\n",
        "plt.show()"
      ],
      "execution_count": null,
      "outputs": [
        {
          "output_type": "display_data",
          "data": {
            "image/png": "[encoded data removed]",
            "text/plain": [
              "<Figure size 432x288 with 2 Axes>"
            ]
          },
          "metadata": {
            "tags": [],
            "needs_background": "light"
          }
        }
      ]
    },
    {
      "cell_type": "markdown",
      "metadata": {
        "id": "evQGfRNTznHr"
      },
      "source": [
        "# Majority Voting"
      ]
    },
    {
      "cell_type": "code",
      "metadata": {
        "id": "Ee0E6k_XzlFS"
      },
      "source": [
        "all_models = {'naive bayes': y_pred_nb,\n",
        "            'logistic regression': y_pred_logistic,\n",
        "            'random forest': y_pred_rf,\n",
        "            'SVM': y_pred_svm}"
      ],
      "execution_count": null,
      "outputs": []
    },
    {
      "cell_type": "code",
      "metadata": {
        "id": "CZ5ceY6pz-Sd",
        "colab": {
          "base_uri": "https://localhost:8080/"
        },
        "outputId": "37cc4617-eba3-4541-daf3-bb58330448e5"
      },
      "source": [
        "for key_1 in all_models:\n",
        "\n",
        "    combination = []\n",
        "    model_rep = ''\n",
        "    \n",
        "    for key_2 in all_models:\n",
        "        if key_1 != key_2:\n",
        "            combination.append(all_models[key_2])\n",
        "            model_rep += ' + ' + key_2\n",
        "        \n",
        "    print(model_rep[3:])\n",
        "\n",
        "    y_pred_voting = stats.mode(np.array(combination))[0][0]\n",
        "    \n",
        "    print('accuracy:',accuracy_score(y_test,y_pred_voting))\n",
        "    print('f1 (macro):',f1_score(y_test, y_pred_voting, average='macro'))\n",
        "\n",
        "    print()"
      ],
      "execution_count": null,
      "outputs": [
        {
          "output_type": "stream",
          "text": [
            "logistic regression + random forest + SVM\n",
            "accuracy: 0.8220930232558139\n",
            "f1 (macro): 0.7520871369060067\n",
            "\n",
            "naive bayes + random forest + SVM\n",
            "accuracy: 0.8162790697674419\n",
            "f1 (macro): 0.7478548736676465\n",
            "\n",
            "naive bayes + logistic regression + SVM\n",
            "accuracy: 0.7953488372093023\n",
            "f1 (macro): 0.7336167996001437\n",
            "\n",
            "naive bayes + logistic regression + random forest\n",
            "accuracy: 0.8104651162790698\n",
            "f1 (macro): 0.7543627853837271\n",
            "\n"
          ],
          "name": "stdout"
        }
      ]
    }
  ]
}