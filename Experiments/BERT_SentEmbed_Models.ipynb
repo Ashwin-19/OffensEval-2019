{
  "nbformat": 4,
  "nbformat_minor": 0,
  "metadata": {
    "colab": {
      "name": "BERT_Models.ipynb",
      "provenance": [],
      "collapsed_sections": [],
      "toc_visible": true
    },
    "kernelspec": {
      "name": "python3",
      "display_name": "Python 3"
    },
    "accelerator": "GPU"
  },
  "cells": [
    {
      "cell_type": "markdown",
      "metadata": {
        "id": "I1IO4JByFg67"
      },
      "source": [
        "# Imports"
      ]
    },
    {
      "cell_type": "code",
      "metadata": {
        "id": "KY4h7bNb1fI-"
      },
      "source": [
        "from sklearn.ensemble import RandomForestClassifier\n",
        "from sklearn.naive_bayes import GaussianNB\n",
        "from sklearn.linear_model import LogisticRegression\n",
        "from sklearn.neural_network import MLPClassifier\n",
        "from sklearn.model_selection import StratifiedKFold\n",
        "from sklearn.preprocessing import *\n",
        "from sklearn.model_selection import train_test_split\n",
        "from sklearn.metrics import *\n",
        "from sklearn import svm\n",
        "from scipy import stats\n",
        "\n",
        "import matplotlib.pyplot as plt\n",
        "import pandas as pd\n",
        "import numpy as np\n",
        "import joblib"
      ],
      "execution_count": null,
      "outputs": []
    },
    {
      "cell_type": "markdown",
      "metadata": {
        "id": "Jffs9V5FFjJg"
      },
      "source": [
        "# Load Data"
      ]
    },
    {
      "cell_type": "code",
      "metadata": {
        "id": "gUXhjhou1mj2",
        "colab": {
          "base_uri": "https://localhost:8080/"
        },
        "outputId": "d36187a2-d59c-4323-b118-7b30c5f7e3d3"
      },
      "source": [
        "%cd '/content/drive/My Drive/IIITD/SEM-7/ML/ML Project/Code/Dataset'"
      ],
      "execution_count": null,
      "outputs": [
        {
          "output_type": "stream",
          "text": [
            "/content/drive/My Drive/IIITD/SEM-7/ML/ML Project/Code/Dataset\n"
          ],
          "name": "stdout"
        }
      ]
    },
    {
      "cell_type": "code",
      "metadata": {
        "id": "7dAH8pEm1tDm"
      },
      "source": [
        "X_train = joblib.load('X_train_cls')\n",
        "X_test = joblib.load('X_test_cls')"
      ],
      "execution_count": null,
      "outputs": []
    },
    {
      "cell_type": "code",
      "metadata": {
        "id": "NXs_a8LU3LgV"
      },
      "source": [
        "y_train = joblib.load('y_train')\n",
        "\n",
        "y_test = pd.read_csv('labels-levela.csv',index_col=0,header=None).to_numpy().ravel()"
      ],
      "execution_count": null,
      "outputs": []
    },
    {
      "cell_type": "markdown",
      "metadata": {
        "id": "_fMJ8OgNZuPB"
      },
      "source": [
        "## Standardize"
      ]
    },
    {
      "cell_type": "code",
      "metadata": {
        "id": "70ecBK_3NflI"
      },
      "source": [
        "# scaler = StandardScaler()\n",
        "\n",
        "# X_train = scaler.fit_transform(X_train)\n",
        "# X_test = scaler.fit_transform(X_test)"
      ],
      "execution_count": null,
      "outputs": []
    },
    {
      "cell_type": "code",
      "metadata": {
        "id": "cGIpm8bUAIE5"
      },
      "source": [
        "k_fold = StratifiedKFold(n_splits=5, random_state=0, shuffle=True)"
      ],
      "execution_count": null,
      "outputs": []
    },
    {
      "cell_type": "markdown",
      "metadata": {
        "id": "U1EyT9uRXjCK"
      },
      "source": [
        "# Models"
      ]
    },
    {
      "cell_type": "markdown",
      "metadata": {
        "id": "4nGTSE7r64Qj"
      },
      "source": [
        "## Logistic Regression"
      ]
    },
    {
      "cell_type": "markdown",
      "metadata": {
        "id": "61nc1Zb-7VwA"
      },
      "source": [
        "### Training"
      ]
    },
    {
      "cell_type": "code",
      "metadata": {
        "id": "ZH54e6XzC276"
      },
      "source": [
        "log_classifier = LogisticRegression(max_iter=2000)"
      ],
      "execution_count": null,
      "outputs": []
    },
    {
      "cell_type": "code",
      "metadata": {
        "id": "AuEmLdaCC-qo"
      },
      "source": [
        "log_classifier = log_classifier.fit(X_train,y_train)"
      ],
      "execution_count": null,
      "outputs": []
    },
    {
      "cell_type": "code",
      "metadata": {
        "id": "9_HcwGtq7lY8",
        "colab": {
          "base_uri": "https://localhost:8080/"
        },
        "outputId": "5676f07d-c748-4f95-c692-c9b3567ec46f"
      },
      "source": [
        "# joblib.dump(log_classifier,'logregression_BERT.model')"
      ],
      "execution_count": null,
      "outputs": [
        {
          "output_type": "execute_result",
          "data": {
            "text/plain": [
              "['logregression_BERT.model']"
            ]
          },
          "metadata": {
            "tags": []
          },
          "execution_count": 17
        }
      ]
    },
    {
      "cell_type": "code",
      "metadata": {
        "id": "eZiVfiFU7t3V"
      },
      "source": [
        "# log_classifier = joblib.load('logregression_BERT.model')"
      ],
      "execution_count": null,
      "outputs": []
    },
    {
      "cell_type": "markdown",
      "metadata": {
        "id": "FKhEfIF58V9w"
      },
      "source": [
        "### Prediction"
      ]
    },
    {
      "cell_type": "code",
      "metadata": {
        "id": "1mppXX7W7zAt"
      },
      "source": [
        "y_pred_logistic = log_classifier.predict(X_test)"
      ],
      "execution_count": null,
      "outputs": []
    },
    {
      "cell_type": "code",
      "metadata": {
        "id": "kGL8JgCV79AW",
        "colab": {
          "base_uri": "https://localhost:8080/"
        },
        "outputId": "11d23f43-4dde-4759-e3e7-a57a30ffa7e8"
      },
      "source": [
        "print(classification_report(y_test,y_pred_logistic))"
      ],
      "execution_count": null,
      "outputs": [
        {
          "output_type": "stream",
          "text": [
            "              precision    recall  f1-score   support\n",
            "\n",
            "         NOT       0.85      0.93      0.89       620\n",
            "         OFF       0.77      0.56      0.65       240\n",
            "\n",
            "    accuracy                           0.83       860\n",
            "   macro avg       0.81      0.75      0.77       860\n",
            "weighted avg       0.82      0.83      0.82       860\n",
            "\n"
          ],
          "name": "stdout"
        }
      ]
    },
    {
      "cell_type": "code",
      "metadata": {
        "id": "Zaje-uLs7_Du",
        "colab": {
          "base_uri": "https://localhost:8080/",
          "height": 295
        },
        "outputId": "3837ec88-e1bc-44d6-9f82-60adf5665685"
      },
      "source": [
        "plot = plot_confusion_matrix(log_classifier,X_test,y_test)\n",
        "plot.ax_.set_title(\"Confusion Matrix (Logistic Regression)\")\n",
        "plt.show()"
      ],
      "execution_count": null,
      "outputs": [
        {
          "output_type": "display_data",
          "data": {
            "image/png": "[encoded data removed]",
            "text/plain": [
              "<Figure size 432x288 with 2 Axes>"
            ]
          },
          "metadata": {
            "tags": [],
            "needs_background": "light"
          }
        }
      ]
    },
    {
      "cell_type": "markdown",
      "metadata": {
        "id": "GQBaeqzeXeBg"
      },
      "source": [
        "## Naive Bayes Classifier"
      ]
    },
    {
      "cell_type": "markdown",
      "metadata": {
        "id": "lcDkaauWY116"
      },
      "source": [
        "### Training"
      ]
    },
    {
      "cell_type": "code",
      "metadata": {
        "id": "WV4yx4P-Xhao"
      },
      "source": [
        "nb_classifier = GaussianNB()"
      ],
      "execution_count": null,
      "outputs": []
    },
    {
      "cell_type": "code",
      "metadata": {
        "id": "JZV8Vs3rYSPp"
      },
      "source": [
        "nb_classifier = nb_classifier.fit(X_train,y_train)"
      ],
      "execution_count": null,
      "outputs": []
    },
    {
      "cell_type": "code",
      "metadata": {
        "id": "UJLJnnALYYQi",
        "colab": {
          "base_uri": "https://localhost:8080/"
        },
        "outputId": "a70c109c-f09f-4730-b1a9-843ee8b1c2ed"
      },
      "source": [
        "# joblib.dump(nb_classifier,'naivebayes_BERT.model')"
      ],
      "execution_count": null,
      "outputs": [
        {
          "output_type": "execute_result",
          "data": {
            "text/plain": [
              "['naivebayes_BERT.model']"
            ]
          },
          "metadata": {
            "tags": []
          },
          "execution_count": 25
        }
      ]
    },
    {
      "cell_type": "code",
      "metadata": {
        "id": "waiJ_z86YiGq"
      },
      "source": [
        "# nb_classifier = joblib.load('naivebayes_BERT.model')"
      ],
      "execution_count": null,
      "outputs": []
    },
    {
      "cell_type": "markdown",
      "metadata": {
        "id": "j90NFjLCY5dp"
      },
      "source": [
        "### Prediction"
      ]
    },
    {
      "cell_type": "code",
      "metadata": {
        "id": "i75LdY8XYlhJ"
      },
      "source": [
        "y_pred_nb = nb_classifier.predict(X_test)"
      ],
      "execution_count": null,
      "outputs": []
    },
    {
      "cell_type": "code",
      "metadata": {
        "id": "JmBKgeh0YrXx",
        "colab": {
          "base_uri": "https://localhost:8080/"
        },
        "outputId": "67456c04-2675-4afe-a0dd-8528e3cfb5ac"
      },
      "source": [
        "print(classification_report(y_test,y_pred_nb))"
      ],
      "execution_count": null,
      "outputs": [
        {
          "output_type": "stream",
          "text": [
            "              precision    recall  f1-score   support\n",
            "\n",
            "         NOT       0.88      0.65      0.75       620\n",
            "         OFF       0.47      0.78      0.58       240\n",
            "\n",
            "    accuracy                           0.69       860\n",
            "   macro avg       0.67      0.71      0.67       860\n",
            "weighted avg       0.77      0.69      0.70       860\n",
            "\n"
          ],
          "name": "stdout"
        }
      ]
    },
    {
      "cell_type": "code",
      "metadata": {
        "id": "Ld-Li1XWYtvJ",
        "colab": {
          "base_uri": "https://localhost:8080/",
          "height": 295
        },
        "outputId": "31e97899-df3e-4cd8-dfae-7de42ab1211b"
      },
      "source": [
        "plot = plot_confusion_matrix(nb_classifier,X_test,y_test)\n",
        "plot.ax_.set_title(\"Confusion Matrix (Naive Bayes)\")\n",
        "plt.show()"
      ],
      "execution_count": null,
      "outputs": [
        {
          "output_type": "display_data",
          "data": {
            "image/png": "[encoded data removed]",
            "text/plain": [
              "<Figure size 432x288 with 2 Axes>"
            ]
          },
          "metadata": {
            "tags": [],
            "needs_background": "light"
          }
        }
      ]
    },
    {
      "cell_type": "markdown",
      "metadata": {
        "id": "L4_RFVKLKzCO"
      },
      "source": [
        "## Random Forest Classifier"
      ]
    },
    {
      "cell_type": "markdown",
      "metadata": {
        "id": "s7bGk9TmZdvM"
      },
      "source": [
        "### Training"
      ]
    },
    {
      "cell_type": "code",
      "metadata": {
        "id": "Ysyc_hOL3WHz"
      },
      "source": [
        "rf_classifier = RandomForestClassifier()"
      ],
      "execution_count": null,
      "outputs": []
    },
    {
      "cell_type": "code",
      "metadata": {
        "id": "Gac0u1tu3UOW"
      },
      "source": [
        "rf_classifier = rf_classifier.fit(X_train,y_train)"
      ],
      "execution_count": null,
      "outputs": []
    },
    {
      "cell_type": "code",
      "metadata": {
        "id": "FR4IKJ01Wnu5",
        "colab": {
          "base_uri": "https://localhost:8080/"
        },
        "outputId": "d6d2ee5d-16b7-4a32-fe02-ab7c0f24aed9"
      },
      "source": [
        "# joblib.dump(rf_classifier,'randomforest_BERT.model')"
      ],
      "execution_count": null,
      "outputs": [
        {
          "output_type": "execute_result",
          "data": {
            "text/plain": [
              "['randomforest_BERT.model']"
            ]
          },
          "metadata": {
            "tags": []
          },
          "execution_count": 33
        }
      ]
    },
    {
      "cell_type": "code",
      "metadata": {
        "id": "iKRsaYUCW_Zw"
      },
      "source": [
        "# rf_classifier = joblib.load('randomforest_BERT.model')"
      ],
      "execution_count": null,
      "outputs": []
    },
    {
      "cell_type": "markdown",
      "metadata": {
        "id": "ki01s6JhZfyK"
      },
      "source": [
        "### Prediction"
      ]
    },
    {
      "cell_type": "code",
      "metadata": {
        "id": "GYDh1x6WFHgA"
      },
      "source": [
        "y_pred_rf = rf_classifier.predict(X_test)"
      ],
      "execution_count": null,
      "outputs": []
    },
    {
      "cell_type": "code",
      "metadata": {
        "id": "odLVRB8LFQF0",
        "colab": {
          "base_uri": "https://localhost:8080/"
        },
        "outputId": "b4f30cbe-9064-4ac8-bd9c-5fb7a2b3665f"
      },
      "source": [
        "print(classification_report(y_test,y_pred_rf))"
      ],
      "execution_count": null,
      "outputs": [
        {
          "output_type": "stream",
          "text": [
            "              precision    recall  f1-score   support\n",
            "\n",
            "         NOT       0.81      0.95      0.87       620\n",
            "         OFF       0.75      0.41      0.53       240\n",
            "\n",
            "    accuracy                           0.80       860\n",
            "   macro avg       0.78      0.68      0.70       860\n",
            "weighted avg       0.79      0.80      0.78       860\n",
            "\n"
          ],
          "name": "stdout"
        }
      ]
    },
    {
      "cell_type": "code",
      "metadata": {
        "id": "chMDk80yQfCn",
        "colab": {
          "base_uri": "https://localhost:8080/",
          "height": 295
        },
        "outputId": "02059aa0-452c-4572-a99c-4fcdfbabab1b"
      },
      "source": [
        "plot = plot_confusion_matrix(rf_classifier,X_test,y_test)\n",
        "plot.ax_.set_title(\"Confusion Matrix (Random Forest)\")\n",
        "plt.show()"
      ],
      "execution_count": null,
      "outputs": [
        {
          "output_type": "display_data",
          "data": {
            "image/png": "[encoded data removed]",
            "text/plain": [
              "<Figure size 432x288 with 2 Axes>"
            ]
          },
          "metadata": {
            "tags": [],
            "needs_background": "light"
          }
        }
      ]
    },
    {
      "cell_type": "markdown",
      "metadata": {
        "id": "wpFNhAZbRbzP"
      },
      "source": [
        "## SVM"
      ]
    },
    {
      "cell_type": "markdown",
      "metadata": {
        "id": "Fxz1CFeDZlb4"
      },
      "source": [
        "### Training"
      ]
    },
    {
      "cell_type": "code",
      "metadata": {
        "id": "OqEh_NVvQmJt"
      },
      "source": [
        "svm_classifier = svm.SVC()"
      ],
      "execution_count": null,
      "outputs": []
    },
    {
      "cell_type": "code",
      "metadata": {
        "id": "nb2DiGg6THCc"
      },
      "source": [
        "svm_classifier = svm_classifier.fit(X_train, y_train)"
      ],
      "execution_count": null,
      "outputs": []
    },
    {
      "cell_type": "code",
      "metadata": {
        "id": "otgcR2xgWE88",
        "colab": {
          "base_uri": "https://localhost:8080/"
        },
        "outputId": "0f0e9f6e-4ff7-4527-9ff3-85636d3eec68"
      },
      "source": [
        "# joblib.dump(svm_classifier,'svm_BERT.model')"
      ],
      "execution_count": null,
      "outputs": [
        {
          "output_type": "execute_result",
          "data": {
            "text/plain": [
              "['svm_BERT.model']"
            ]
          },
          "metadata": {
            "tags": []
          },
          "execution_count": 40
        }
      ]
    },
    {
      "cell_type": "code",
      "metadata": {
        "id": "PaDuXoxCWVih"
      },
      "source": [
        "# svm_classifier = joblib.load('svm_BERT.model')"
      ],
      "execution_count": null,
      "outputs": []
    },
    {
      "cell_type": "markdown",
      "metadata": {
        "id": "8hsMYafBZnnm"
      },
      "source": [
        "### Prediction"
      ]
    },
    {
      "cell_type": "code",
      "metadata": {
        "id": "4KeC3w2fTHfo"
      },
      "source": [
        "y_pred_svm = svm_classifier.predict(X_test)"
      ],
      "execution_count": null,
      "outputs": []
    },
    {
      "cell_type": "code",
      "metadata": {
        "id": "mgNTpzZhTLlM",
        "colab": {
          "base_uri": "https://localhost:8080/"
        },
        "outputId": "188d1906-2c4f-4624-9d41-4b4ae42ea4e4"
      },
      "source": [
        "print(classification_report(y_test,y_pred_svm))"
      ],
      "execution_count": null,
      "outputs": [
        {
          "output_type": "stream",
          "text": [
            "              precision    recall  f1-score   support\n",
            "\n",
            "         NOT       0.83      0.95      0.89       620\n",
            "         OFF       0.79      0.49      0.61       240\n",
            "\n",
            "    accuracy                           0.82       860\n",
            "   macro avg       0.81      0.72      0.75       860\n",
            "weighted avg       0.82      0.82      0.81       860\n",
            "\n"
          ],
          "name": "stdout"
        }
      ]
    },
    {
      "cell_type": "code",
      "metadata": {
        "id": "tOb9R2ZMTNnR",
        "colab": {
          "base_uri": "https://localhost:8080/",
          "height": 295
        },
        "outputId": "78014331-cd59-4407-f865-864db58adbe7"
      },
      "source": [
        "plot = plot_confusion_matrix(svm_classifier,X_test,y_test)\n",
        "plot.ax_.set_title(\"Confusion Matrix (SVM)\")\n",
        "plt.show()"
      ],
      "execution_count": null,
      "outputs": [
        {
          "output_type": "display_data",
          "data": {
            "image/png": "[encoded data removed]",
            "text/plain": [
              "<Figure size 432x288 with 2 Axes>"
            ]
          },
          "metadata": {
            "tags": [],
            "needs_background": "light"
          }
        }
      ]
    },
    {
      "cell_type": "markdown",
      "metadata": {
        "id": "AuiMtprXb-iP"
      },
      "source": [
        "## Artifical Neural Network"
      ]
    },
    {
      "cell_type": "code",
      "metadata": {
        "id": "ZKMN6PNCcD4n"
      },
      "source": [
        "class NN:\n",
        "\n",
        "    def __init__(self,layers,activation,alpha):\n",
        "        \n",
        "        self.n_layers = len(layers)\n",
        "        self.layers = layers\n",
        "        self.activation = activation\n",
        "        self.alpha = alpha\n",
        "        \n",
        "        self.model = MLPClassifier(hidden_layer_sizes=self.layers,\n",
        "                                   activation=self.activation,\n",
        "                                   alpha=self.alpha,\n",
        "                                   max_iter=500)\n",
        "    \n",
        "    def fit(self,X,y):\n",
        "        self.model = self.model.fit(X,y)\n",
        "\n",
        "    def predict(self,X):\n",
        "        return self.model.predict(X)\n",
        "    \n",
        "    def loss(self):\n",
        "        return self.model.loss_"
      ],
      "execution_count": null,
      "outputs": []
    },
    {
      "cell_type": "code",
      "metadata": {
        "id": "DQq_-v_rcLIH"
      },
      "source": [
        "NN_classifier = NN(layers=[200,100,100,50],activation='relu',alpha=1e-4)"
      ],
      "execution_count": null,
      "outputs": []
    },
    {
      "cell_type": "code",
      "metadata": {
        "id": "Emk8dpiIcTdw"
      },
      "source": [
        "NN_classifier.fit(X_train,y_train)"
      ],
      "execution_count": null,
      "outputs": []
    },
    {
      "cell_type": "code",
      "metadata": {
        "id": "aLJmocSBcWNf"
      },
      "source": [
        "y_pred_NN = NN_classifier.predict(X_test)"
      ],
      "execution_count": null,
      "outputs": []
    },
    {
      "cell_type": "code",
      "metadata": {
        "colab": {
          "base_uri": "https://localhost:8080/"
        },
        "id": "EeO6uICEcYHx",
        "outputId": "9d4e382e-b5ac-406c-908e-b91b4202e075"
      },
      "source": [
        "print(classification_report(y_test,y_pred_NN))"
      ],
      "execution_count": null,
      "outputs": [
        {
          "output_type": "stream",
          "text": [
            "              precision    recall  f1-score   support\n",
            "\n",
            "         NOT       0.84      0.83      0.84       620\n",
            "         OFF       0.57      0.61      0.59       240\n",
            "\n",
            "    accuracy                           0.77       860\n",
            "   macro avg       0.71      0.72      0.71       860\n",
            "weighted avg       0.77      0.77      0.77       860\n",
            "\n"
          ],
          "name": "stdout"
        }
      ]
    },
    {
      "cell_type": "code",
      "metadata": {
        "colab": {
          "base_uri": "https://localhost:8080/",
          "height": 295
        },
        "id": "a77mmphhdUMp",
        "outputId": "f22597e7-6deb-4eb9-a3c0-8e278a702c51"
      },
      "source": [
        "plot = plot_confusion_matrix(NN_classifier.model,X_test,y_test)\n",
        "plot.ax_.set_title(\"Confusion Matrix (NN)\")\n",
        "plt.show()"
      ],
      "execution_count": null,
      "outputs": [
        {
          "output_type": "display_data",
          "data": {
            "image/png": "[encoded data removed]",
            "text/plain": [
              "<Figure size 432x288 with 2 Axes>"
            ]
          },
          "metadata": {
            "tags": [],
            "needs_background": "light"
          }
        }
      ]
    },
    {
      "cell_type": "markdown",
      "metadata": {
        "id": "evQGfRNTznHr"
      },
      "source": [
        "# Majority Voting"
      ]
    },
    {
      "cell_type": "code",
      "metadata": {
        "id": "Ee0E6k_XzlFS"
      },
      "source": [
        "all_models = {'naive bayes': y_pred_nb,\n",
        "            'logistic regression': y_pred_logistic,\n",
        "            'random forest': y_pred_rf,\n",
        "            'SVM': y_pred_svm,\n",
        "            'NN':y_pred_NN}"
      ],
      "execution_count": null,
      "outputs": []
    },
    {
      "cell_type": "code",
      "metadata": {
        "id": "CZ5ceY6pz-Sd",
        "colab": {
          "base_uri": "https://localhost:8080/"
        },
        "outputId": "0022a83f-771f-44ca-9861-f215e614ef44"
      },
      "source": [
        "for key_1 in all_models:\n",
        "\n",
        "    combination = []\n",
        "    model_rep = ''\n",
        "    \n",
        "    for key_2 in all_models:\n",
        "        if key_1 != key_2:\n",
        "            combination.append(all_models[key_2])\n",
        "            model_rep += ' + ' + key_2\n",
        "        \n",
        "    print(model_rep[3:])\n",
        "\n",
        "    y_pred_voting = stats.mode(np.array(combination))[0][0]\n",
        "    \n",
        "    print('accuracy:',accuracy_score(y_test,y_pred_voting))\n",
        "    print('f1 (macro):',f1_score(y_test, y_pred_voting, average='macro'))\n",
        "\n",
        "    print()"
      ],
      "execution_count": null,
      "outputs": [
        {
          "output_type": "stream",
          "text": [
            "logistic regression + random forest + SVM + NN\n",
            "accuracy: 0.8186046511627907\n",
            "f1 (macro): 0.7303511705685619\n",
            "\n",
            "naive bayes + random forest + SVM + NN\n",
            "accuracy: 0.8058139534883721\n",
            "f1 (macro): 0.7152515489467162\n",
            "\n",
            "naive bayes + logistic regression + SVM + NN\n",
            "accuracy: 0.8232558139534883\n",
            "f1 (macro): 0.7488935333169413\n",
            "\n",
            "naive bayes + logistic regression + random forest + NN\n",
            "accuracy: 0.8104651162790698\n",
            "f1 (macro): 0.724184881522276\n",
            "\n",
            "naive bayes + logistic regression + random forest + SVM\n",
            "accuracy: 0.8162790697674419\n",
            "f1 (macro): 0.7279679679679679\n",
            "\n"
          ],
          "name": "stdout"
        }
      ]
    }
  ]
}